{
 "cells": [
  {
   "attachments": {},
   "cell_type": "markdown",
   "metadata": {},
   "source": [
    "# This is parallel version of Merge sort \n",
    "### Merge sort is a population sort method that have time complexity is O($nlogn$) in any case.\n",
    "but today, i decide to boost it, and check how fast merge sort can reach with parrallel version and maybe our mergesort can win quick sort, who knows. \n",
    "\n",
    "---"
   ]
  },
  {
   "attachments": {},
   "cell_type": "markdown",
   "metadata": {},
   "source": [
    "First of all we need to implement normal version of merge sort\n",
    "### This is Merge Sort\n",
    "Nothing to talk about this Algoritm\n",
    "If you want do learn more about merge sort this [link](https://www.geeksforgeeks.org/merge-sort/) will usefull for you.\n"
   ]
  },
  {
   "cell_type": "code",
   "execution_count": 15,
   "metadata": {},
   "outputs": [],
   "source": [
    "import numpy as np\n",
    "\n",
    "def Merge(*args):\n",
    "    res = []\n",
    "    i = 0\n",
    "    j = 0\n",
    "    L,R = args[0] if len(args) == 1 else args\n",
    "    while(i<len(L) and j<len(R)):\n",
    "        if (L[i] < R[j]):\n",
    "            res.append(L[i])\n",
    "            i+=1\n",
    "        else:\n",
    "            res.append(R[j])\n",
    "            j+=1\n",
    "    if (i<len(L)):\n",
    "        res = np.append(res, L[i:])\n",
    "    if (j<len(R)):\n",
    "        res = np.append(res, R[j:])\n",
    "    return res\n",
    "def MergeSort(A):\n",
    "    if (len(A) <=1): \n",
    "        return A\n",
    "    mid = int(len(A)/2)\n",
    "    L = MergeSort(A[0:mid])\n",
    "    R = MergeSort(A[mid:])\n",
    "    return Merge(L,R)\n"
   ]
  },
  {
   "attachments": {},
   "cell_type": "markdown",
   "metadata": {},
   "source": [
    "### Time to mesuare time of sort algorithm\n",
    "This function below will help you do that"
   ]
  },
  {
   "cell_type": "code",
   "execution_count": 16,
   "metadata": {},
   "outputs": [],
   "source": [
    "import time\n",
    "def Mesuare(arr , func):\n",
    "    tic = time.time()\n",
    "    arrS = func(arr)\n",
    "    toc = time.time()\n",
    "    MS_time = (toc-tic)*1000\n",
    "    print(f'{func.__name__}, time used {MS_time} (ms) \\n')\n",
    "    return MS_time"
   ]
  },
  {
   "attachments": {},
   "cell_type": "markdown",
   "metadata": {},
   "source": [
    "# This time for parallel version\n",
    "\n",
    "First of all we need to know basic idea of parallel version.\n",
    "\n",
    "- All we know that merge sort first divide array into many small piece, sort it and assemble into an orderd array.\n",
    "\n",
    "- But in normal merge sort we divide array until 1 element for each sub-array. we note that each sub array work independent. it's mean no order for each sub array in thís phase.\n",
    "\n",
    "- So, why we dont use 1 process for each sub-array, sort its and assemble.\n",
    "\n",
    "- But, number of process is limit and we denote that the time complexity n in O(nlogn) - a large part - come from merge phase not split phase.\n",
    "\n",
    "- So, an optimize approach is split it into k such array sort each subarray and merge it after that. So far so good.\n",
    "\n",
    "But what is k. We know that lower bound of k is 1 of course like the way we did before. First let's try with k is 2.\n",
    "\n",
    "---\n",
    "## Below implementation is merge sort parallel with two process run parallel in real time\n",
    "\n",
    "Documentation about multiprocessing module you can find [here](https://docs.python.org/3/library/multiprocessing.html)\n",
    "\n",
    "Wait.... What is MSPL, Ok..ok MSPL stand for Merge Sort Parallel Library (seems i got a library to solve this problem huh?), but, it just a custom module i wrote, you can find it in \n",
    "MSPL.py in same repo. Because jupyter notebook seem not work with multiprocessing module when you create a task for funcion in same notebook (i dont know why). So i create same \n",
    "function in MSPL.py file, build it, and import here. Its same with function i define above nothing is special here."
   ]
  },
  {
   "cell_type": "code",
   "execution_count": null,
   "metadata": {},
   "outputs": [],
   "source": [
    "import multiprocessing\n",
    "def MergeSortParallel(A):\n",
    "    if (len(A) <=1): \n",
    "        return A\n",
    "    mid = int(len(A)/2)\n",
    "    with multiprocessing.Pool(2) as pool:\n",
    "        L = pool.apply_async(MergeSortParallel, [A[0:mid]])\n",
    "        R = pool.apply_async(MergeSortParallel, [A[mid:]])\n",
    "        L = L.get()\n",
    "        R = R.get()\n",
    "    return Merge(L,R)"
   ]
  },
  {
   "cell_type": "code",
   "execution_count": 17,
   "metadata": {},
   "outputs": [],
   "source": [
    "import multiprocessing\n",
    "import MSPL\n",
    "def MergeSortParallelVer0(A):\n",
    "    if (len(A) <=1): \n",
    "        return A\n",
    "    mid = int(len(A)/2)\n",
    "    with multiprocessing.Pool(2) as pool:\n",
    "        L = pool.apply_async(MSPL.MergeSort, [A[0:mid]])\n",
    "        R = pool.apply_async(MSPL.MergeSort, [A[mid:]])\n",
    "        L = L.get()\n",
    "        R = R.get()\n",
    "    return Merge(L,R)"
   ]
  },
  {
   "cell_type": "code",
   "execution_count": 18,
   "metadata": {},
   "outputs": [],
   "source": [
    "np.random.seed = 21521109"
   ]
  },
  {
   "attachments": {},
   "cell_type": "markdown",
   "metadata": {},
   "source": [
    "### Time to mesuare time of two method\n",
    "first, we try with array have len is 100,000"
   ]
  },
  {
   "cell_type": "code",
   "execution_count": 19,
   "metadata": {},
   "outputs": [
    {
     "name": "stdout",
     "output_type": "stream",
     "text": [
      "MergeSortParallelVer0, time used 820.2168941497803 (ms) \n",
      "\n",
      "MergeSort, time used 940.9980773925781 (ms) \n",
      "\n",
      "Parrallel version faster 1.1472551761665395 times\n"
     ]
    }
   ],
   "source": [
    "\n",
    "arr = np.random.randint(0,2000000, size=100000)\n",
    "MSPV0_time = Mesuare(arr, MergeSortParallelVer0)\n",
    "MS_time = Mesuare(arr, MergeSort)\n",
    "print(f\"Parrallel version faster {float(MS_time)/MSPV0_time} times\")"
   ]
  },
  {
   "attachments": {},
   "cell_type": "markdown",
   "metadata": {},
   "source": [
    "Seem not effective\n",
    "\n",
    "But, we need to know that cost for create and manager process not small \n",
    "\n",
    "Let's try with array has len is 1,000,000"
   ]
  },
  {
   "cell_type": "code",
   "execution_count": 20,
   "metadata": {},
   "outputs": [
    {
     "name": "stdout",
     "output_type": "stream",
     "text": [
      "MergeSortParallelVer0, time used 6433.24613571167 (ms) \n",
      "\n",
      "MergeSort, time used 11197.022199630737 (ms) \n",
      "\n",
      "Parrallel version faster 1.740493362670334 times\n"
     ]
    }
   ],
   "source": [
    "arr = np.random.randint(0,2000000, size=1000000)\n",
    "MSPV0_time = Mesuare(arr, MergeSortParallelVer0)\n",
    "MS_time = Mesuare(arr, MergeSort)\n",
    "print(f\"Parrallel version faster {float(MS_time)/MSPV0_time} times\")"
   ]
  },
  {
   "attachments": {},
   "cell_type": "markdown",
   "metadata": {},
   "source": [
    "We just boost time to complete merge sort x1.74 time not so good, but i belive that if len go to infinity (we all wish that not happen) Parallel version will also go to 2x times faster than normal version.\n",
    "\n",
    "---\n",
    "\n",
    "But 2 is k upper bound?\n",
    "\n",
    "The answer is not i don't know upper bound of k in general and no one know, but, the computer know upper bound of k.\n",
    "\n",
    "we know that k is the number process to sort k subarray, so, k is number of process that computer has.\n",
    "\n",
    "method:\n",
    "```\n",
    "multiprocessing.cpu_count()\n",
    "```\n",
    "will return number of process that computer has, and you can use all of them (or not, it's just a maximize number of process, maybe sort-process must wait for another process like your system process, kernel, or fifty tab of chrome you are opening).\n",
    "\n",
    "---\n",
    "\n",
    "Below implementation is MergeSort Parellel will use maximize available process of your computer to work\n",
    "\n",
    "## MergeSortParallel"
   ]
  },
  {
   "cell_type": "code",
   "execution_count": 21,
   "metadata": {},
   "outputs": [],
   "source": [
    "\n",
    "def MergeSortParallel(A):\n",
    "    n = len(A)\n",
    "    if n <=1: \n",
    "        return A\n",
    "    n_process = multiprocessing.cpu_count()\n",
    "\n",
    "    A = np.array_split(A, n_process)\n",
    "    \n",
    "    pool = multiprocessing.Pool(n_process)\n",
    "    A = pool.map(MSPL.MergeSort, A)\n",
    "    while len(A)>1:\n",
    "        odd_part = []\n",
    "        if len(A) % 2 != 0:\n",
    "            odd_part = A.pop()\n",
    "        A = [(A[i],A[i+1]) for i in range(0,len(A),2)]\n",
    "        if len(odd_part) == 0:\n",
    "            A = pool.map(MSPL.Merge, A)\n",
    "        else:\n",
    "            A = pool.map(MSPL.Merge, A) + odd_part\n",
    "    return A[0]"
   ]
  },
  {
   "attachments": {},
   "cell_type": "markdown",
   "metadata": {},
   "source": [
    "# Now let's mesuare again"
   ]
  },
  {
   "cell_type": "code",
   "execution_count": 22,
   "metadata": {},
   "outputs": [
    {
     "name": "stdout",
     "output_type": "stream",
     "text": [
      "MergeSortParallel, time used 4734.275102615356 (ms) \n",
      "\n",
      "MergeSort: Parallel version !!! FASTER !!! than normal version 2.3650974979137067 times!!!\n"
     ]
    }
   ],
   "source": [
    "MSP_time = Mesuare(arr, MergeSortParallel)\n",
    "if (MS_time > MSP_time):\n",
    "    print(f\"MergeSort: Parallel version !!! FASTER !!! than normal version {MS_time/MSP_time} times!!!\")\n",
    "else:\n",
    "    print(f\"MergeSort: Parallel version !!! SLOWER !!! than normal version {MSP_time/MS_time} times!!!\")"
   ]
  },
  {
   "attachments": {},
   "cell_type": "markdown",
   "metadata": {},
   "source": [
    "We got $\\approx$ x2.36 boost with new version \n",
    "\n",
    "My computer has 8 process, but as i mentioned above, cost for create and manager process not small so we was not got x8 boost in this case. \n",
    "\n",
    "### Let's try with array has len is 2,000,000"
   ]
  },
  {
   "cell_type": "code",
   "execution_count": 23,
   "metadata": {},
   "outputs": [
    {
     "name": "stdout",
     "output_type": "stream",
     "text": [
      "MergeSortParallel, time used 9430.230140686035 (ms) \n",
      "\n",
      "MergeSort, time used 23615.66138267517 (ms) \n",
      "\n",
      "Parrallel version faster 2.504250800920238 times\n"
     ]
    }
   ],
   "source": [
    "arr = np.random.randint(0,2000000, size=2000000)\n",
    "MSP_time = Mesuare(arr, MergeSortParallel)\n",
    "MS_time = Mesuare(arr, MergeSort)\n",
    "print(f\"Parrallel version faster {float(MS_time)/MSP_time} times\")"
   ]
  },
  {
   "attachments": {},
   "cell_type": "markdown",
   "metadata": {},
   "source": [
    "Now i got $\\approx$ x2.5 times faster than normal mersort.\n",
    "\n",
    "### In this case (my computer has 8 process) \n",
    "\n",
    "Again i belive that if len go to infinity (we all wish that not happen) Parallel version will also go to 8x times faster than normal version if all 8 process is for this work.\n"
   ]
  },
  {
   "attachments": {},
   "cell_type": "markdown",
   "metadata": {},
   "source": [
    "# The magical thing of this approach\n",
    "\n",
    "What if each sub-array above i use quick sort instead of merge sort?\n",
    "\n",
    "Let's try this."
   ]
  },
  {
   "cell_type": "code",
   "execution_count": 24,
   "metadata": {},
   "outputs": [],
   "source": [
    "import random\n",
    "\n",
    "def QuickSort(arr):\n",
    "    if len(arr) <= 1:\n",
    "        return arr\n",
    "    \n",
    "    pivot = random.choice(arr)\n",
    "    left = []\n",
    "    right = []\n",
    "    pivot_list = []\n",
    "    \n",
    "    for i in arr:\n",
    "        if i < pivot:\n",
    "            left.append(i)\n",
    "        elif i > pivot:\n",
    "            right.append(i)\n",
    "        else:\n",
    "            pivot_list.append(i)\n",
    "    \n",
    "    return QuickSort(left) + pivot_list + QuickSort(right)"
   ]
  },
  {
   "cell_type": "code",
   "execution_count": 30,
   "metadata": {},
   "outputs": [
    {
     "name": "stdout",
     "output_type": "stream",
     "text": [
      "QuickSort, time used 6832.568645477295 (ms) \n",
      "\n"
     ]
    }
   ],
   "source": [
    "QS_Time = Mesuare(arr, QuickSort)"
   ]
  },
  {
   "cell_type": "code",
   "execution_count": 26,
   "metadata": {},
   "outputs": [],
   "source": [
    "\n",
    "def MergeQuickSortParallel(A):\n",
    "    n = len(A)\n",
    "    if n <=1: \n",
    "        return A\n",
    "    n_process = multiprocessing.cpu_count()\n",
    "\n",
    "    A = np.array_split(A, n_process)\n",
    "    \n",
    "    pool = multiprocessing.Pool(n_process)\n",
    "    A = pool.map(MSPL.QuickSort, A)\n",
    "    while len(A)>1:\n",
    "        odd_part = []\n",
    "        if len(A) % 2 != 0:\n",
    "            odd_part = A.pop()\n",
    "        A = [(A[i],A[i+1]) for i in range(0,len(A),2)]\n",
    "        if len(odd_part) == 0:\n",
    "            A = pool.map(MSPL.Merge, A)\n",
    "        else:\n",
    "            A = pool.map(MSPL.Merge, A) + odd_part\n",
    "    return A[0]"
   ]
  },
  {
   "cell_type": "code",
   "execution_count": 31,
   "metadata": {},
   "outputs": [
    {
     "name": "stdout",
     "output_type": "stream",
     "text": [
      "MergeQuickSortParallel, time used 9232.069969177246 (ms) \n",
      "\n",
      "Merge Quick Sort faster 1.0214643273036685 times than old parallel version\n",
      "Quick Sort faster 1.3511858348160557 times than merge quick parallel version\n"
     ]
    }
   ],
   "source": [
    "MQSP_Time = Mesuare(arr, MergeQuickSortParallel)\n",
    "print(f\"Merge Quick Sort faster {float(MSP_time)/MQSP_Time} times than old parallel version\")\n",
    "print(f\"Quick Sort faster {float(MQSP_Time)/QS_Time} times than merge quick parallel version\")"
   ]
  },
  {
   "attachments": {},
   "cell_type": "markdown",
   "metadata": {},
   "source": [
    "- Seem efficiency not increase to clearly \n",
    "\n",
    "- and it even not good as simple quicksort version\n",
    "\n",
    "- What happen?\n",
    "\n",
    "- As i mention above cost for create and manager process is not small.\n",
    "\n",
    "### So let's try with just 2 process"
   ]
  },
  {
   "cell_type": "code",
   "execution_count": 32,
   "metadata": {},
   "outputs": [],
   "source": [
    "def MergeQuickSortParallelVer2(A):\n",
    "    if (len(A) <=1): \n",
    "        return A\n",
    "    mid = int(len(A)/2)\n",
    "    with multiprocessing.Pool(2) as pool:\n",
    "        L = pool.apply_async(MSPL.QuickSort, [A[0:mid]])\n",
    "        R = pool.apply_async(MSPL.QuickSort, [A[mid:]])\n",
    "        L = L.get()\n",
    "        R = R.get()\n",
    "    return Merge(L,R)"
   ]
  },
  {
   "cell_type": "code",
   "execution_count": 34,
   "metadata": {},
   "outputs": [
    {
     "name": "stdout",
     "output_type": "stream",
     "text": [
      "MergeQuickSortParallelVer2, time used 6529.356956481934 (ms) \n",
      "\n",
      "Merge Quick Sort ver 2 faster 1.4442816043813163 times than old parallel version\n",
      "Quick Sort faster 0.9556225916301525 times than merge quick parallel version 2\n"
     ]
    }
   ],
   "source": [
    "MQSP2_Time = Mesuare(arr, MergeQuickSortParallelVer2)\n",
    "print(f\"Merge Quick Sort ver 2 faster {float(MSP_time)/MQSP2_Time} times than old parallel version\")\n",
    "print(f\"Quick Sort faster {float(MQSP2_Time)/QS_Time} times than merge quick parallel version 2\")"
   ]
  },
  {
   "attachments": {},
   "cell_type": "markdown",
   "metadata": {},
   "source": [
    "# Wow!\n",
    "We just boost x1.4 times for old parallel version\n",
    "\n",
    "And it's now faster than normal quick sort, althougt i use quick sort in this version but it still a good signal.\n",
    "\n",
    "Seem we reach our target from begin,"
   ]
  },
  {
   "attachments": {},
   "cell_type": "markdown",
   "metadata": {},
   "source": [
    "# Funny section\n",
    "\n",
    "Let's compare with np.sort method"
   ]
  },
  {
   "cell_type": "code",
   "execution_count": 36,
   "metadata": {},
   "outputs": [
    {
     "name": "stdout",
     "output_type": "stream",
     "text": [
      "sort, time used 112.08558082580566 (ms) \n",
      "\n",
      "np.sort faster 58.25331776287381 times than merge quick sort parallel version 2\n"
     ]
    }
   ],
   "source": [
    "builtin = Mesuare(arr, np.sort)\n",
    "print(f\"np.sort faster {float(MQSP2_Time)/builtin} times than merge quick sort parallel version 2\")"
   ]
  },
  {
   "attachments": {},
   "cell_type": "markdown",
   "metadata": {},
   "source": [
    "Not too suprised, but im also a bit disappointed, I took the time to research that!!!"
   ]
  }
 ],
 "metadata": {
  "kernelspec": {
   "display_name": "Python 3",
   "language": "python",
   "name": "python3"
  },
  "language_info": {
   "codemirror_mode": {
    "name": "ipython",
    "version": 3
   },
   "file_extension": ".py",
   "mimetype": "text/x-python",
   "name": "python",
   "nbconvert_exporter": "python",
   "pygments_lexer": "ipython3",
   "version": "3.10.10"
  },
  "orig_nbformat": 4
 },
 "nbformat": 4,
 "nbformat_minor": 2
}
